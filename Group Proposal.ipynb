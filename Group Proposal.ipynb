{
 "cells": [
  {
   "cell_type": "markdown",
   "id": "3d353ea8-8bb9-4fd4-a73f-38aa2ef0508e",
   "metadata": {},
   "source": [
    "# **Investigating Predictors of Heart Disease**\n",
    "done by Arnav, Drishti, Karan and Samia "
   ]
  },
  {
   "cell_type": "markdown",
   "id": "46015fbd-7c58-43c1-8fac-44249560641f",
   "metadata": {},
   "source": [
    "### Introduction:\n",
    "\n",
    "Heart disease is a leading cause of mortality worldwide, making it a significant public health concern.\n",
    "Understanding the factors associated with heart disease occurrence is crucial for prevention and intervention efforts. In our project, we aim to explore the predictors of heart disease using a dataset containing various patient attributes and heart disease diagnosis outcomes.\n",
    "\n",
    "The central question guiding our analysis is: What factors contribute to the likelihood of heart disease occurrence?\n"
   ]
  },
  {
   "cell_type": "markdown",
   "id": "4dbed309-19a9-41f3-bcff-79ad0d3088e4",
   "metadata": {},
   "source": [
    "### Dataset Description:\n",
    "We will utilize the \"Heart Disease\" dataset, which includes patient demographic information, clinical attributes, and a binary target variable indicating the presence or absence of heart disease. \n",
    "The dataset is sourced from a reliable repository and has been widely used for cardiovascular research.\n",
    "The dataset comprises 76 attributes, with most studies centered on a subset of 14 attributes. Primarily sourced from the Cleveland database, extensively utilized by machine learning (ML) researchers, it aims to predict the presence of heart disease. The \"goal\" field denotes heart disease presence, ranging from 0 (absence) to 4. \n",
    "\n",
    "(Janosi,Andras, Steinbrunn,William, Pfisterer,Matthias, and Detrano,Robert. (1988). Heart Disease. UCI Machine Learning Repository. https://doi.org/10.24432/C52P4X.)\n",
    "\n",
    "The relevant columns in this spreadsheet are: \n",
    "1. **age**: age\n",
    "2. **sex**: sex (1 = male, 0 = female)\n",
    "3. **cp**: chest pain type\n",
    "4. **trestbps**: resting blood pressure in mmHg\n",
    "5. **chol**: serum cholestoral in mg/dl\n",
    "6. **fbs**: fasting blood sugar > 120 mg/dl? (1 = True, 0 = False)\n",
    "7. **restecg**: resting electrocardiographic results\n",
    "8. **thalach**: maximum heart rate achieved\n",
    "9. **exang**: whether exercise induced angina (1 = True, 0 = False)\n",
    "10. **oldpeak**: ST depression induced by exercise, relative to rest\n",
    "11. **slope**: the slope of the peak exercise ST segment (1 = upslope, 2 = flat, 3 = downslope)\n",
    "12. **ca**: number of major vessels (0-3) colored by flourosopy\n",
    "13. **thal**: (3 = normal, 6 = fixed defect, 7 = reversable defect)\n",
    "14. **num**: diagnosis of heart disease (1,2,3,4 = presence, 0 = no presence)\n",
    "\n",
    "\n"
   ]
  },
  {
   "cell_type": "markdown",
   "id": "7e2feeb6-d47e-49a2-9a0e-5789e99bfc69",
   "metadata": {},
   "source": [
    "### Preliminary Exploratory Data Analysis:\n",
    "\n",
    "We will programmatically access and import the \"Heart Disease\" dataset into our Jupyter notebook to ensure reproducibility.\n",
    "\n",
    "Data cleaning and preprocessing steps will be performed to handle missing values, address outliers, and encode categorical variables as necessary.\n",
    "\n",
    "Summary statistics will be calculated to understand the distribution of variables and identify potential trends.\n",
    "\n",
    "Visualizations, such as histograms, bar charts, and correlation matrices, will be generated to explore relationships between variables and gain insights into the data."
   ]
  },
  {
   "cell_type": "code",
   "execution_count": 4,
   "id": "dde06efd-ee85-4275-a600-263909aab994",
   "metadata": {},
   "outputs": [],
   "source": [
    "# importing libraries\n",
    "library(tidyverse)\n",
    "library(tidymodels)\n",
    "library(repr)\n",
    "library(RColorBrewer)\n",
    "#options(repr.matrix.max.rows = 6)jofrjfor\n"
   ]
  },
  {
   "cell_type": "code",
   "execution_count": 3,
   "id": "09a89ffc-2eec-4cc4-9ecb-f0065fb1a5c0",
   "metadata": {},
   "outputs": [
    {
     "name": "stderr",
     "output_type": "stream",
     "text": [
      "\u001b[1mRows: \u001b[22m\u001b[34m303\u001b[39m \u001b[1mColumns: \u001b[22m\u001b[34m14\u001b[39m\n",
      "\u001b[36m──\u001b[39m \u001b[1mColumn specification\u001b[22m \u001b[36m────────────────────────────────────────────────────────\u001b[39m\n",
      "\u001b[1mDelimiter:\u001b[22m \",\"\n",
      "\u001b[31mchr\u001b[39m  (2): ca, thal\n",
      "\u001b[32mdbl\u001b[39m (12): age, sex, cp, trestbps, chol, fbs, restecg, thalach, exang, oldpea...\n",
      "\n",
      "\u001b[36mℹ\u001b[39m Use `spec()` to retrieve the full column specification for this data.\n",
      "\u001b[36mℹ\u001b[39m Specify the column types or set `show_col_types = FALSE` to quiet this message.\n"
     ]
    },
    {
     "data": {
      "text/html": [
       "<table class=\"dataframe\">\n",
       "<caption>A spec_tbl_df: 303 × 14</caption>\n",
       "<thead>\n",
       "\t<tr><th scope=col>age</th><th scope=col>sex</th><th scope=col>cp</th><th scope=col>trestbps</th><th scope=col>chol</th><th scope=col>fbs</th><th scope=col>restecg</th><th scope=col>thalach</th><th scope=col>exang</th><th scope=col>oldpeak</th><th scope=col>slope</th><th scope=col>ca</th><th scope=col>thal</th><th scope=col>num</th></tr>\n",
       "\t<tr><th scope=col>&lt;dbl&gt;</th><th scope=col>&lt;dbl&gt;</th><th scope=col>&lt;dbl&gt;</th><th scope=col>&lt;dbl&gt;</th><th scope=col>&lt;dbl&gt;</th><th scope=col>&lt;dbl&gt;</th><th scope=col>&lt;dbl&gt;</th><th scope=col>&lt;dbl&gt;</th><th scope=col>&lt;dbl&gt;</th><th scope=col>&lt;dbl&gt;</th><th scope=col>&lt;dbl&gt;</th><th scope=col>&lt;chr&gt;</th><th scope=col>&lt;chr&gt;</th><th scope=col>&lt;dbl&gt;</th></tr>\n",
       "</thead>\n",
       "<tbody>\n",
       "\t<tr><td>63</td><td>1</td><td>1</td><td>145</td><td>233</td><td>1</td><td>2</td><td>150</td><td>0</td><td>2.3</td><td>3</td><td>0.0</td><td>6.0</td><td>0</td></tr>\n",
       "\t<tr><td>67</td><td>1</td><td>4</td><td>160</td><td>286</td><td>0</td><td>2</td><td>108</td><td>1</td><td>1.5</td><td>2</td><td>3.0</td><td>3.0</td><td>2</td></tr>\n",
       "\t<tr><td>67</td><td>1</td><td>4</td><td>120</td><td>229</td><td>0</td><td>2</td><td>129</td><td>1</td><td>2.6</td><td>2</td><td>2.0</td><td>7.0</td><td>1</td></tr>\n",
       "\t<tr><td>⋮</td><td>⋮</td><td>⋮</td><td>⋮</td><td>⋮</td><td>⋮</td><td>⋮</td><td>⋮</td><td>⋮</td><td>⋮</td><td>⋮</td><td>⋮</td><td>⋮</td><td>⋮</td></tr>\n",
       "\t<tr><td>57</td><td>1</td><td>4</td><td>130</td><td>131</td><td>0</td><td>0</td><td>115</td><td>1</td><td>1.2</td><td>2</td><td>1.0</td><td>7.0</td><td>3</td></tr>\n",
       "\t<tr><td>57</td><td>0</td><td>2</td><td>130</td><td>236</td><td>0</td><td>2</td><td>174</td><td>0</td><td>0.0</td><td>2</td><td>1.0</td><td>3.0</td><td>1</td></tr>\n",
       "\t<tr><td>38</td><td>1</td><td>3</td><td>138</td><td>175</td><td>0</td><td>0</td><td>173</td><td>0</td><td>0.0</td><td>1</td><td>?  </td><td>3.0</td><td>0</td></tr>\n",
       "</tbody>\n",
       "</table>\n"
      ],
      "text/latex": [
       "A spec\\_tbl\\_df: 303 × 14\n",
       "\\begin{tabular}{llllllllllllll}\n",
       " age & sex & cp & trestbps & chol & fbs & restecg & thalach & exang & oldpeak & slope & ca & thal & num\\\\\n",
       " <dbl> & <dbl> & <dbl> & <dbl> & <dbl> & <dbl> & <dbl> & <dbl> & <dbl> & <dbl> & <dbl> & <chr> & <chr> & <dbl>\\\\\n",
       "\\hline\n",
       "\t 63 & 1 & 1 & 145 & 233 & 1 & 2 & 150 & 0 & 2.3 & 3 & 0.0 & 6.0 & 0\\\\\n",
       "\t 67 & 1 & 4 & 160 & 286 & 0 & 2 & 108 & 1 & 1.5 & 2 & 3.0 & 3.0 & 2\\\\\n",
       "\t 67 & 1 & 4 & 120 & 229 & 0 & 2 & 129 & 1 & 2.6 & 2 & 2.0 & 7.0 & 1\\\\\n",
       "\t ⋮ & ⋮ & ⋮ & ⋮ & ⋮ & ⋮ & ⋮ & ⋮ & ⋮ & ⋮ & ⋮ & ⋮ & ⋮ & ⋮\\\\\n",
       "\t 57 & 1 & 4 & 130 & 131 & 0 & 0 & 115 & 1 & 1.2 & 2 & 1.0 & 7.0 & 3\\\\\n",
       "\t 57 & 0 & 2 & 130 & 236 & 0 & 2 & 174 & 0 & 0.0 & 2 & 1.0 & 3.0 & 1\\\\\n",
       "\t 38 & 1 & 3 & 138 & 175 & 0 & 0 & 173 & 0 & 0.0 & 1 & ?   & 3.0 & 0\\\\\n",
       "\\end{tabular}\n"
      ],
      "text/markdown": [
       "\n",
       "A spec_tbl_df: 303 × 14\n",
       "\n",
       "| age &lt;dbl&gt; | sex &lt;dbl&gt; | cp &lt;dbl&gt; | trestbps &lt;dbl&gt; | chol &lt;dbl&gt; | fbs &lt;dbl&gt; | restecg &lt;dbl&gt; | thalach &lt;dbl&gt; | exang &lt;dbl&gt; | oldpeak &lt;dbl&gt; | slope &lt;dbl&gt; | ca &lt;chr&gt; | thal &lt;chr&gt; | num &lt;dbl&gt; |\n",
       "|---|---|---|---|---|---|---|---|---|---|---|---|---|---|\n",
       "| 63 | 1 | 1 | 145 | 233 | 1 | 2 | 150 | 0 | 2.3 | 3 | 0.0 | 6.0 | 0 |\n",
       "| 67 | 1 | 4 | 160 | 286 | 0 | 2 | 108 | 1 | 1.5 | 2 | 3.0 | 3.0 | 2 |\n",
       "| 67 | 1 | 4 | 120 | 229 | 0 | 2 | 129 | 1 | 2.6 | 2 | 2.0 | 7.0 | 1 |\n",
       "| ⋮ | ⋮ | ⋮ | ⋮ | ⋮ | ⋮ | ⋮ | ⋮ | ⋮ | ⋮ | ⋮ | ⋮ | ⋮ | ⋮ |\n",
       "| 57 | 1 | 4 | 130 | 131 | 0 | 0 | 115 | 1 | 1.2 | 2 | 1.0 | 7.0 | 3 |\n",
       "| 57 | 0 | 2 | 130 | 236 | 0 | 2 | 174 | 0 | 0.0 | 2 | 1.0 | 3.0 | 1 |\n",
       "| 38 | 1 | 3 | 138 | 175 | 0 | 0 | 173 | 0 | 0.0 | 1 | ?   | 3.0 | 0 |\n",
       "\n"
      ],
      "text/plain": [
       "    age sex cp trestbps chol fbs restecg thalach exang oldpeak slope ca  thal\n",
       "1   63  1   1  145      233  1   2       150     0     2.3     3     0.0 6.0 \n",
       "2   67  1   4  160      286  0   2       108     1     1.5     2     3.0 3.0 \n",
       "3   67  1   4  120      229  0   2       129     1     2.6     2     2.0 7.0 \n",
       "⋮   ⋮   ⋮   ⋮  ⋮        ⋮    ⋮   ⋮       ⋮       ⋮     ⋮       ⋮     ⋮   ⋮   \n",
       "301 57  1   4  130      131  0   0       115     1     1.2     2     1.0 7.0 \n",
       "302 57  0   2  130      236  0   2       174     0     0.0     2     1.0 3.0 \n",
       "303 38  1   3  138      175  0   0       173     0     0.0     1     ?   3.0 \n",
       "    num\n",
       "1   0  \n",
       "2   2  \n",
       "3   1  \n",
       "⋮   ⋮  \n",
       "301 3  \n",
       "302 1  \n",
       "303 0  "
      ]
     },
     "metadata": {},
     "output_type": "display_data"
    }
   ],
   "source": [
    "cleveland_data <- read_csv(\"https://archive.ics.uci.edu/ml/machine-learning-databases/heart-disease/processed.cleveland.data\",\n",
    "                           col_names = c(\"age\", \"sex\", \"cp\", \"trestbps\", \"chol\", \"fbs\", \"restecg\", \n",
    "                                         \"thalach\", \"exang\", \"oldpeak\", \"slope\", \"ca\", \"thal\", \"num\"))\n",
    "cleveland_data"
   ]
  },
  {
   "cell_type": "markdown",
   "id": "bfdbc58d-defc-4e15-9396-17c686e8ca15",
   "metadata": {},
   "source": [
    "### Methods:\n",
    "\n",
    "- We will employ descriptive statistics, inferential analysis, and predictive modeling techniques to investigate predictors of heart disease.\n",
    "- Variables such as age, gender, cholesterol levels, blood pressure, and exercise habits will be considered as potential predictors.\n",
    "- Feature engineering may be performed to derive new variables or transformations to enhance predictive performance.\n",
    "- Machine learning algorithms, such as logistic regression or decision trees, will be applied to build predictive models of heart disease occurrence."
   ]
  },
  {
   "cell_type": "markdown",
   "id": "497feea1-8cfe-4c64-8a3f-d59853ec07a1",
   "metadata": {},
   "source": [
    "### Expected Outcomes and Significance:\n",
    "\n",
    "We anticipate identifying key factors associated with the presence or absence of heart disease, providing valuable insights for healthcare professionals and policymakers.\n",
    "Understanding these predictors could inform risk assessment strategies, intervention programs, and personalized treatment plans for individuals at risk of heart disease.\n",
    "Our findings may prompt further research inquiries, such as investigating the effectiveness of specific lifestyle interventions or exploring disparities in heart disease risk across demographic groups."
   ]
  },
  {
   "cell_type": "code",
   "execution_count": null,
   "id": "0853dcb1-a81b-462f-b068-65ad5a58e101",
   "metadata": {},
   "outputs": [],
   "source": [
    "#testing\n"
   ]
  }
 ],
 "metadata": {
  "kernelspec": {
   "display_name": "R",
   "language": "R",
   "name": "ir"
  },
  "language_info": {
   "codemirror_mode": "r",
   "file_extension": ".r",
   "mimetype": "text/x-r-source",
   "name": "R",
   "pygments_lexer": "r",
   "version": "4.3.1"
  }
 },
 "nbformat": 4,
 "nbformat_minor": 5
}
